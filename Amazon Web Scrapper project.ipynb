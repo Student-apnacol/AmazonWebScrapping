{
 "cells": [
  {
   "cell_type": "code",
   "execution_count": 1,
   "id": "10526d0c-f8e5-48eb-a826-fda788c97ca8",
   "metadata": {},
   "outputs": [],
   "source": [
    "from bs4 import BeautifulSoup\n",
    "import requests\n",
    "import smtplib\n",
    "import time\n",
    "import datetime\n"
   ]
  },
  {
   "cell_type": "code",
   "execution_count": 2,
   "id": "5b84451b-1e20-4990-bb59-f023516e4d63",
   "metadata": {},
   "outputs": [
    {
     "name": "stdout",
     "output_type": "stream",
     "text": [
      "DUDEME I'm Offline | Programmer T Shirt | Coding T Shirt for Coders | Developer T Shirt | Round Neck Cotton T-Shirt | Geek Half Sleeve T Shirt for Men & Women\n",
      "\n",
      "\n"
     ]
    }
   ],
   "source": [
    "URL = 'https://www.amazon.in/DUDEME-Offline-Programmer-Developer-T-Shirt/dp/B08SKLCF53/ref=sr_1_3?crid=3P62EL697L5EK&keywords=data%2Banalyst%2Btshirt&qid=1699028225&sprefix=data%2Banalyst%2Btshirt%2Caps%2C509&sr=8-3&th=1&psc=1'\n",
    "\n",
    "headers = {\"User-Agent\": \"Mozilla/5.0 (Windows NT 10.0; Win64; x64) AppleWebKit/537.36 (KHTML, like Gecko) Chrome/78.0.3904.108 Safari/537.36\"}\n",
    "\n",
    "page = requests.get(URL, headers=headers)\n",
    "\n",
    "soup1 = BeautifulSoup(page.content, \"html.parser\")\n",
    "\n",
    "\n",
    "soup2 = BeautifulSoup(soup1.prettify(), \"html.parser\")\n",
    "\n",
    "\n",
    "\n",
    "# Find the product title\n",
    "product_title = soup2.find(id='productTitle')\n",
    "\n",
    "if product_title:\n",
    "    title = product_title.get_text().strip()\n",
    "    print(title)\n",
    "else:\n",
    "   print(\"Product title not found on the page or there is an issue with your HTML structure.\")\n",
    "\n",
    "price =soup2.find(id='taxInclusiveMessage').get_text()\n",
    "\n",
    "\n",
    "\n",
    "print(price)"
   ]
  },
  {
   "cell_type": "code",
   "execution_count": 3,
   "id": "756b89c7-27d5-4978-9e97-8ab83f2ba5f5",
   "metadata": {},
   "outputs": [],
   "source": [
    "price =price.strip()[1:]"
   ]
  },
  {
   "cell_type": "code",
   "execution_count": 4,
   "id": "6209a2c4-7bd7-44a5-9bd6-785e224bf190",
   "metadata": {},
   "outputs": [
    {
     "name": "stdout",
     "output_type": "stream",
     "text": [
      "DUDEME I'm Offline | Programmer T Shirt | Coding T Shirt for Coders | Developer T Shirt | Round Neck Cotton T-Shirt | Geek Half Sleeve T Shirt for Men & Women\n"
     ]
    },
    {
     "data": {
      "text/plain": [
       "str"
      ]
     },
     "execution_count": 4,
     "metadata": {},
     "output_type": "execute_result"
    }
   ],
   "source": [
    "title = title.strip()\n",
    "print(title)\n",
    "type(price)"
   ]
  },
  {
   "cell_type": "code",
   "execution_count": 14,
   "id": "6af9c0e9-ae0d-4a54-81c1-c036382109eb",
   "metadata": {},
   "outputs": [
    {
     "name": "stdout",
     "output_type": "stream",
     "text": [
      "2023-11-04\n"
     ]
    }
   ],
   "source": [
    "import datetime\n",
    "today = datetime.date.today()\n",
    "print(today)"
   ]
  },
  {
   "cell_type": "code",
   "execution_count": 15,
   "id": "9cd15ad1-50b7-4d13-8149-b4b65686711e",
   "metadata": {},
   "outputs": [],
   "source": [
    "import csv \n",
    "\n",
    "header = ['Title', 'Price', 'Date']\n",
    "data = [title, price, today]\n",
    "\n",
    "with open('AmazonWebscraperDataset.csv', 'w' , newline= '' , encoding= 'UTF8') as f:\n",
    "   writer =  csv.writer(f)\n",
    "   writer.writerow(header)\n",
    "   writer.writerow(data) "
   ]
  },
  {
   "cell_type": "code",
   "execution_count": 18,
   "id": "92de9d62-956a-47b1-916b-b45c8000b146",
   "metadata": {},
   "outputs": [],
   "source": [
    "import pandas as pd\n",
    "pd.read_csv(r'C:\\Users\\LENOVO\\Downloads\\AmazonWebscraperDataset.csv')\n",
    "\n",
    "print(df)"
   ]
  },
  {
   "cell_type": "code",
   "execution_count": 19,
   "id": "c69a38b2-aff7-41be-b519-ce61ecfe285b",
   "metadata": {},
   "outputs": [],
   "source": [
    "#we are appending data to the csv \n",
    "with open('AmazonWebscraperDataset.csv', 'a+' , newline= '' , encoding= 'UTF8') as f:\n",
    "   writer =  csv.writer(f)\n",
    "   writer.writerow(data) \n"
   ]
  },
  {
   "cell_type": "code",
   "execution_count": 21,
   "id": "4c667d11-05b7-4b41-b25e-b1d850d39c0f",
   "metadata": {},
   "outputs": [],
   "source": [
    "def check_price():\n",
    "    URL = 'https://www.amazon.in/DUDEME-Offline-Programmer-Developer-T-Shirt/dp/B08SKLCF53/ref=sr_1_3?crid=3P62EL697L5EK&keywords=data%2Banalyst%2Btshirt&qid=1699028225&sprefix=data%2Banalyst%2Btshirt%2Caps%2C509&sr=8-3&th=1&psc=1'\n",
    "\n",
    "    headers = {\"User-Agent\": \"Mozilla/5.0 (Windows NT 10.0; Win64; x64) AppleWebKit/537.36 (KHTML, like Gecko) Chrome/78.0.3904.108 Safari/537.36\"}\n",
    "\n",
    "    page = requests.get(URL, headers=headers)\n",
    "\n",
    "    soup1 = BeautifulSoup(page.content, \"html.parser\")\n",
    "\n",
    "\n",
    "    soup2 = BeautifulSoup(soup1.prettify(), \"html.parser\")\n",
    "\n",
    "\n",
    "\n",
    "# Find the product title\n",
    "    product_title = soup2.find(id='productTitle')\n",
    "\n",
    "    if product_title:\n",
    "        title = product_title.get_text().strip()\n",
    "        print(title)\n",
    "    else:\n",
    "        print(\"Product title not found on the page or there is an issue with your HTML structure.\")\n",
    "\n",
    "    price =soup2.find(id='taxInclusiveMessage').get_text()\n",
    "\n",
    "    price =price.strip()[1:]\n",
    "    title = title.strip()\n",
    "\n",
    "    import datetime\n",
    "    today = datetime.date.today()\n",
    "    print(today)\n",
    "\n",
    "    \n",
    "    header = ['Title', 'Price', 'Date']\n",
    "    data = [title, price, today]\n",
    "\n",
    "    with open('AmazonWebscraperDataset.csv', 'w' , newline= '' , encoding= 'UTF8') as f:\n",
    "       writer =  csv.writer(f)\n",
    "       writer.writerow(data) \n",
    "    \n",
    "    "
   ]
  },
  {
   "cell_type": "code",
   "execution_count": null,
   "id": "b0c54975-d240-43b7-b00b-9a7c72e1d081",
   "metadata": {},
   "outputs": [],
   "source": [
    "while(True):\n",
    "    check_price()\n",
    "    time.sleep(86400)"
   ]
  },
  {
   "cell_type": "code",
   "execution_count": null,
   "id": "5942d60e-530f-4935-8683-f4c3244668fd",
   "metadata": {},
   "outputs": [],
   "source": []
  }
 ],
 "metadata": {
  "kernelspec": {
   "display_name": "Python 3 (ipykernel)",
   "language": "python",
   "name": "python3"
  },
  "language_info": {
   "codemirror_mode": {
    "name": "ipython",
    "version": 3
   },
   "file_extension": ".py",
   "mimetype": "text/x-python",
   "name": "python",
   "nbconvert_exporter": "python",
   "pygments_lexer": "ipython3",
   "version": "3.12.0"
  }
 },
 "nbformat": 4,
 "nbformat_minor": 5
}
